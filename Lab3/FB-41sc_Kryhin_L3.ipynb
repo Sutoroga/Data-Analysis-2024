{
 "cells": [
  {
   "cell_type": "markdown",
   "id": "fd163e0f-e8e5-4006-b75f-4028db1fc70b",
   "metadata": {},
   "source": [
    "# Лабораторна робота #3\r",
    "## Знайомство з нейромережами"
   ]
  },
  {
   "cell_type": "markdown",
   "id": "53d0c1df-dbd8-4401-b216-182522ce2b3f",
   "metadata": {},
   "source": [
    "## Завдання роботи\n",
    "1. Повнозв'язані нейронні мережі\n",
    "Вирішіть завдання класифікації даних, з якими ви працювали в лабораторній № 1 за допомогою повнозв’язаної нейромережі прямого поширення (fully connected feed-forward network). Результати порівняйте з одержаними раніше. \n",
    "\n",
    "2. Згорткові нейронні мережі\n",
    "Вирішіть завдання класифікації зображень за допомогою згорткової (convolutional) нейромережі двома способами\n",
    "а) навчить мережу з нуля (from scratch)\n",
    "б) застосуйте перенесення навчання (transfer learning from pre-trained weights)\n",
    "Порівняйте результати (якщо в обраному датасеті класів забагато, достатньо залишити 3-5).\n",
    "\n",
    "3. Рекурентні нейронні мережі\n",
    "Вирішіть задачу класифікації текстів (з якими ви працювали в лабораторній № 2) за допомогою рекурентної нейромережі двома способами:\n",
    "а) навчить мережу і embedding шар з нуля (from scratch)\n",
    "б) використовуючи pretrained word embeddings\n",
    " Результати порівняйте між собою і з одержаними раніш. "
   ]
  },
  {
   "cell_type": "markdown",
   "id": "3f97e7ec-62b4-4ef1-af00-fd723d770aa6",
   "metadata": {},
   "source": [
    "## Хід роботи"
   ]
  },
  {
   "cell_type": "markdown",
   "id": "10e71276-4d9a-40ce-afaa-9cef4730574d",
   "metadata": {},
   "source": [
    "Датасет Лабораторної 1 - https://www.kaggle.com/datasets/erdemtaha/cancer-data."
   ]
  },
  {
   "cell_type": "code",
   "execution_count": 143,
   "id": "b3a36eb6-7237-477f-b1bb-1250ebab1a0d",
   "metadata": {},
   "outputs": [],
   "source": [
    "import pandas as pd\n",
    "\n",
    "data = pd.read_csv('data/Cancer_Data.csv', delimiter=',')"
   ]
  },
  {
   "cell_type": "code",
   "execution_count": 144,
   "id": "ac4756ff-a74e-4181-a08f-31efce590d6e",
   "metadata": {},
   "outputs": [
    {
     "name": "stdout",
     "output_type": "stream",
     "text": [
      "Column Names:\n",
      "['id', 'diagnosis', 'radius_mean', 'texture_mean', 'perimeter_mean', 'area_mean', 'smoothness_mean', 'compactness_mean', 'concavity_mean', 'concave points_mean', 'symmetry_mean', 'fractal_dimension_mean', 'radius_se', 'texture_se', 'perimeter_se', 'area_se', 'smoothness_se', 'compactness_se', 'concavity_se', 'concave points_se', 'symmetry_se', 'fractal_dimension_se', 'radius_worst', 'texture_worst', 'perimeter_worst', 'area_worst', 'smoothness_worst', 'compactness_worst', 'concavity_worst', 'concave points_worst', 'symmetry_worst', 'fractal_dimension_worst', 'Unnamed: 32']\n",
      "\n",
      "Dataset Size:\n",
      "(569, 33)\n"
     ]
    }
   ],
   "source": [
    "print(\"Column Names:\")\n",
    "print(data.columns.tolist())\n",
    "print(\"\\nDataset Size:\")\n",
    "print(data.shape)"
   ]
  },
  {
   "cell_type": "code",
   "execution_count": 145,
   "id": "64ecddbc-e093-4859-b770-0352ece1c408",
   "metadata": {},
   "outputs": [
    {
     "name": "stdout",
     "output_type": "stream",
     "text": [
      "Surv_status: \n",
      "0 = Benign cancer \n",
      "1 = Malignant cancer\n",
      "\n",
      "     radius_mean  texture_mean  perimeter_mean  area_mean  smoothness_mean  \\\n",
      "0       1.137721     -2.073379        1.316619   1.051840         1.573525   \n",
      "1       1.889764     -0.352886        1.743936   2.022988        -0.821811   \n",
      "2       1.633253      0.457306        1.621241   1.655445         0.947293   \n",
      "3      -0.777364      0.254758       -0.596575  -0.785572         3.288545   \n",
      "4       1.808147     -1.151437        1.837014   1.936331         0.285480   \n",
      "..           ...           ...             ...        ...              ...   \n",
      "564     2.178338      0.722714        2.128944   2.480174         1.046921   \n",
      "565     1.761509      2.087002        1.672011   1.828758         0.107574   \n",
      "566     0.732551      2.047424        0.703145   0.624834        -0.835332   \n",
      "567     1.898509      2.338441        2.048557   1.840711         1.530827   \n",
      "568    -1.844215      1.223263       -1.851447  -1.398441        -3.106844   \n",
      "\n",
      "     compactness_mean  concavity_mean  concave points_mean  symmetry_mean  \\\n",
      "0            3.296358        2.754921             2.579619       2.233557   \n",
      "1           -0.481377       -0.005651             0.567769       0.006728   \n",
      "2            1.061540        1.425133             2.077506       0.949554   \n",
      "3            3.415979        1.994857             1.483863       2.886565   \n",
      "4            0.546981        1.432902             1.460326      -0.004278   \n",
      "..                ...             ...                  ...            ...   \n",
      "564          0.226094        2.027228             2.365175      -0.308770   \n",
      "565         -0.011249        0.733696             1.293217      -0.213387   \n",
      "566         -0.032135        0.066989             0.119267      -0.807697   \n",
      "567          3.284965        3.419167             2.707762       2.152849   \n",
      "568         -1.146316       -1.130856            -1.267296      -0.818703   \n",
      "\n",
      "     fractal_dimension_mean  ...  radius_worst  texture_worst  \\\n",
      "0                  2.295121  ...      1.932541      -1.361816   \n",
      "1                 -0.878161  ...      1.850236      -0.371503   \n",
      "2                 -0.400153  ...      1.550565      -0.026196   \n",
      "3                  4.991835  ...     -0.277009       0.131798   \n",
      "4                 -0.567168  ...      1.333198      -1.469317   \n",
      "..                      ...  ...           ...            ...   \n",
      "564               -0.941511  ...      1.947313       0.115510   \n",
      "565               -1.071092  ...      1.575889       2.045643   \n",
      "566               -0.905517  ...      0.581909       1.372947   \n",
      "567                1.064107  ...      2.008514       2.236213   \n",
      "568               -0.565728  ...     -1.428001       0.762145   \n",
      "\n",
      "     perimeter_worst  area_worst  smoothness_worst  compactness_worst  \\\n",
      "0           2.360853    2.092685          1.303618           2.614547   \n",
      "1           1.576664    1.977677         -0.376235          -0.428898   \n",
      "2           1.385176    1.526775          0.524936           1.082658   \n",
      "3          -0.244903   -0.556686          3.385936           3.889744   \n",
      "4           1.376058    1.282156          0.218713          -0.311989   \n",
      "..               ...         ...               ...                ...   \n",
      "564         1.798547    2.107289          0.376199          -0.271961   \n",
      "565         1.461163    1.566936         -0.691207          -0.393317   \n",
      "566         0.600987    0.458848         -0.809322           0.351342   \n",
      "567         2.360853    1.731233          1.426107           3.901181   \n",
      "568        -1.451885   -1.102697         -1.856605          -1.205072   \n",
      "\n",
      "     concavity_worst  concave points_worst  symmetry_worst  \\\n",
      "0           2.133073              2.308490        2.750306   \n",
      "1          -0.139180              1.096303       -0.247928   \n",
      "2           0.869637              1.966513        1.149952   \n",
      "3           2.012285              2.187882        6.049820   \n",
      "4           0.626129              0.737533       -0.873168   \n",
      "..               ...                   ...             ...   \n",
      "564         0.677826              1.639803       -1.365584   \n",
      "565         0.246857              0.742113       -0.536251   \n",
      "566         0.337689              0.421509       -1.109657   \n",
      "567         3.228856              2.302384        1.917733   \n",
      "568        -1.306469             -1.743328       -0.051933   \n",
      "\n",
      "     fractal_dimension_worst  \n",
      "0                   1.946364  \n",
      "1                   0.282848  \n",
      "2                   0.202679  \n",
      "3                   4.958285  \n",
      "4                  -0.398592  \n",
      "..                       ...  \n",
      "564                -0.712032  \n",
      "565                -0.978150  \n",
      "566                -0.319536  \n",
      "567                 2.230298  \n",
      "568                -0.754344  \n",
      "\n",
      "[566 rows x 30 columns]\n"
     ]
    },
    {
     "name": "stderr",
     "output_type": "stream",
     "text": [
      "C:\\Users\\user\\AppData\\Local\\Temp\\ipykernel_5508\\3723964999.py:3: FutureWarning: Downcasting behavior in `replace` is deprecated and will be removed in a future version. To retain the old behavior, explicitly call `result.infer_objects(copy=False)`. To opt-in to the future behavior, set `pd.set_option('future.no_silent_downcasting', True)`\n",
      "  data[\"diagnosis\"] = data[\"diagnosis\"].replace({\"B\": 0, \"M\": 1})\n"
     ]
    }
   ],
   "source": [
    "from sklearn.preprocessing import StandardScaler\n",
    "\n",
    "data[\"diagnosis\"] = data[\"diagnosis\"].replace({\"B\": 0, \"M\": 1})\n",
    "print(\"Surv_status: \\n0 = Benign cancer \\n1 = Malignant cancer\\n\")\n",
    "data = data.drop(columns=['id', \"Unnamed: 32\"])\n",
    "\n",
    "y_column = 'diagnosis'\n",
    "\n",
    "numeric_features = data.select_dtypes(include=['float64', 'int64']).columns\n",
    "data[numeric_features] = data[numeric_features].apply(pd.to_numeric, errors='coerce')\n",
    "\n",
    "# Removing outliers using z-score method outliers may deform clusters) 8,10 gives good data look\n",
    "for i in numeric_features:\n",
    "    mean_value = data[i].mean()\n",
    "    std_dev = data[i].std()\n",
    "    lower_bound = mean_value - 10 * std_dev\n",
    "    upper_bound = mean_value + 10 * std_dev\n",
    "    data = data[(data[i] >= lower_bound) & (data[i] <= upper_bound)]\n",
    "\n",
    "# Scaling numeric features\n",
    "scaler = StandardScaler()\n",
    "data[numeric_features] = scaler.fit_transform(data[numeric_features])\n",
    "\n",
    "data[y_column] = data[y_column].astype(int)\n",
    "\n",
    "X = data.drop(y_column, axis=1)\n",
    "print(X)"
   ]
  },
  {
   "cell_type": "markdown",
   "id": "59a3f73d-4233-4368-af57-5c157b403b6d",
   "metadata": {},
   "source": [
    "## Повнозв'язані нейронні мережі"
   ]
  },
  {
   "cell_type": "code",
   "execution_count": 147,
   "id": "45d2652f-cc8b-4cb7-b44f-d39ecf1472b9",
   "metadata": {},
   "outputs": [],
   "source": [
    "import torch\n",
    "import torch.nn as nn\n",
    "import torch.optim as optim\n",
    "from sklearn.model_selection import train_test_split\n",
    "import matplotlib.pyplot as plt"
   ]
  },
  {
   "cell_type": "code",
   "execution_count": 148,
   "id": "8bf33ec8-aa8f-425f-a85c-a88e7125f784",
   "metadata": {},
   "outputs": [],
   "source": [
    "X = X.values\n",
    "y = data[y_column].values\n",
    "\n",
    "X_train, X_test, y_train, y_test = train_test_split(X, y, test_size=0.2, random_state=42)\n",
    "\n",
    "X_train_tensor = torch.tensor(X_train, dtype=torch.float32)\n",
    "X_test_tensor = torch.tensor(X_test, dtype=torch.float32)\n",
    "y_train_tensor = torch.tensor(y_train, dtype=torch.long)\n",
    "y_test_tensor = torch.tensor(y_test, dtype=torch.long)"
   ]
  },
  {
   "cell_type": "markdown",
   "id": "887b672b-1067-4070-8cb7-a3837f656d8d",
   "metadata": {},
   "source": [
    "Fully connected neural network model"
   ]
  },
  {
   "cell_type": "code",
   "execution_count": 150,
   "id": "7b55d8c6-caf9-4f94-ad7c-0a980cd7770c",
   "metadata": {},
   "outputs": [],
   "source": [
    "class CancerClassifier(nn.Module):\n",
    "    def __init__(self, input_dim):\n",
    "        super(CancerClassifier, self).__init__()\n",
    "        self.layer1 = nn.Linear(input_dim, 128)  # First hidden layer with 128 units\n",
    "        self.layer2 = nn.Linear(128, 64)         # Second hidden layer with 64 units\n",
    "        self.output_layer = nn.Linear(64, 1)     # Output layer with 1 unit (binary classification)\n",
    "        self.dropout = nn.Dropout(0.2)           # Dropout layer to prevent overfitting\n",
    "\n",
    "    def forward(self, x):\n",
    "        x = torch.relu(self.layer1(x))           # ReLU activation on the first layer\n",
    "        x = self.dropout(x)                      # Dropout after first hidden layer\n",
    "        x = torch.relu(self.layer2(x))           # ReLU activation on the second layer\n",
    "        x = torch.sigmoid(self.output_layer(x))  # sigmoid activation on the output layer\n",
    "        return x"
   ]
  },
  {
   "cell_type": "code",
   "execution_count": 151,
   "id": "03efe602-a5eb-4fbb-b10f-3da561215cc2",
   "metadata": {},
   "outputs": [
    {
     "name": "stdout",
     "output_type": "stream",
     "text": [
      "CancerClassifier(\n",
      "  (layer1): Linear(in_features=30, out_features=128, bias=True)\n",
      "  (layer2): Linear(in_features=128, out_features=64, bias=True)\n",
      "  (output_layer): Linear(in_features=64, out_features=1, bias=True)\n",
      "  (dropout): Dropout(p=0.2, inplace=False)\n",
      ")\n"
     ]
    }
   ],
   "source": [
    "model = CancerClassifier(X_train.shape[1])\n",
    "print(model)"
   ]
  },
  {
   "cell_type": "markdown",
   "id": "09c7c214-0770-4da9-9a8a-7e3646571a62",
   "metadata": {},
   "source": [
    "Loss function and optimizer. Binary Cross-Entropy Loss for binary classification and Adam optimizer."
   ]
  },
  {
   "cell_type": "code",
   "execution_count": 152,
   "id": "190751ab-d2aa-4409-9255-9bae7e68431b",
   "metadata": {},
   "outputs": [],
   "source": [
    "criterion = nn.BCELoss()\n",
    "optimizer = optim.Adam(model.parameters(), lr=0.001)"
   ]
  },
  {
   "cell_type": "markdown",
   "id": "3132de28-71b6-433a-ae9a-daf255eebdf7",
   "metadata": {},
   "source": [
    "Training the model"
   ]
  },
  {
   "cell_type": "code",
   "execution_count": 153,
   "id": "7eb7ea76-3d23-460d-b653-7979782da66b",
   "metadata": {},
   "outputs": [
    {
     "name": "stdout",
     "output_type": "stream",
     "text": [
      "Epoch [5/50], Loss: 0.6064\n",
      "Epoch [10/50], Loss: 0.4956\n",
      "Epoch [15/50], Loss: 0.3829\n",
      "Epoch [20/50], Loss: 0.2766\n",
      "Epoch [25/50], Loss: 0.2012\n",
      "Epoch [30/50], Loss: 0.1461\n",
      "Epoch [35/50], Loss: 0.1191\n",
      "Epoch [40/50], Loss: 0.0957\n",
      "Epoch [45/50], Loss: 0.0818\n",
      "Epoch [50/50], Loss: 0.0760\n"
     ]
    }
   ],
   "source": [
    "epochs = 50\n",
    "train_losses = []\n",
    "\n",
    "for epoch in range(epochs):\n",
    "    model.train()\n",
    "\n",
    "    # Forward pass\n",
    "    outputs = model(X_train_tensor).squeeze()  # squeeze to remove unnecessary dimension\n",
    "    loss = criterion(outputs, y_train_tensor.float())\n",
    "    \n",
    "    # Backward pass\n",
    "    optimizer.zero_grad()  # Clear gradients\n",
    "    loss.backward()  # Backpropagate\n",
    "    optimizer.step()  # Update weights\n",
    "    \n",
    "    train_losses.append(loss.item())\n",
    "\n",
    "    if (epoch + 1) % 5 == 0:\n",
    "        print(f\"Epoch [{epoch+1}/{epochs}], Loss: {loss.item():.4f}\")"
   ]
  },
  {
   "cell_type": "markdown",
   "id": "30894d5c-364b-4957-b863-5cdc7fa6c543",
   "metadata": {},
   "source": [
    "Model evaluation"
   ]
  },
  {
   "cell_type": "code",
   "execution_count": 154,
   "id": "77c07103-282b-4b1d-8730-b41bd0953dcf",
   "metadata": {},
   "outputs": [
    {
     "name": "stdout",
     "output_type": "stream",
     "text": [
      "Test Accuracy: 97.37%\n"
     ]
    }
   ],
   "source": [
    "model.eval()  # eval mode disables dropout\n",
    "\n",
    "with torch.no_grad():  # no gradient calculation for inference\n",
    "    outputs = model(X_test_tensor).squeeze()\n",
    "    predictions = (outputs > 0.5).float()  # Convert to binary\n",
    "\n",
    "accuracy = (predictions == y_test_tensor).sum().item() / y_test_tensor.size(0)\n",
    "print(f\"Test Accuracy: {accuracy * 100:.2f}%\")"
   ]
  },
  {
   "cell_type": "code",
   "execution_count": 155,
   "id": "b289c890-0fde-4ffc-be42-7ecea9634df8",
   "metadata": {},
   "outputs": [
    {
     "data": {
      "image/png": "[encoded data removed]",
      "text/plain": [
       "<Figure size 640x480 with 1 Axes>"
      ]
     },
     "metadata": {},
     "output_type": "display_data"
    }
   ],
   "source": [
    "plt.plot(train_losses, label='Training Loss')\n",
    "plt.xlabel('Epochs')\n",
    "plt.ylabel('Loss')\n",
    "plt.title('Training Loss over Epochs')\n",
    "plt.legend()\n",
    "plt.show()"
   ]
  },
  {
   "cell_type": "markdown",
   "id": "905a859d-3017-4b68-baa2-3e031730eac6",
   "metadata": {},
   "source": [
    "Lets take a look at predictions"
   ]
  },
  {
   "cell_type": "code",
   "execution_count": 158,
   "id": "013f6920-141e-4847-9db2-65bb359b53db",
   "metadata": {},
   "outputs": [
    {
     "name": "stdout",
     "output_type": "stream",
     "text": [
      "Prediction: 0.0, True label: 0\n",
      "Prediction: 0.0, True label: 0\n",
      "Prediction: 1.0, True label: 1\n",
      "Prediction: 0.0, True label: 0\n",
      "Prediction: 1.0, True label: 1\n",
      "Prediction: 0.0, True label: 0\n",
      "Prediction: 0.0, True label: 0\n",
      "Prediction: 0.0, True label: 0\n",
      "Prediction: 0.0, True label: 0\n",
      "Prediction: 0.0, True label: 0\n"
     ]
    }
   ],
   "source": [
    "new_predictions = model(X_test_tensor[:10]).squeeze()\n",
    "new_predictions = (new_predictions > 0.5).float()\n",
    "\n",
    "for i in range(10):\n",
    "    print(f\"Prediction: {new_predictions[i].item()}, True label: {y_test_tensor[i].item()}\")"
   ]
  },
  {
   "cell_type": "markdown",
   "id": "c180dea4-d870-4ba1-afa7-442486e20b84",
   "metadata": {},
   "source": [
    "## Згорткові нейронні мережі"
   ]
  },
  {
   "cell_type": "code",
   "execution_count": 159,
   "id": "cac9d422-53bb-4af0-b841-a605a80b5b67",
   "metadata": {},
   "outputs": [],
   "source": [
    "import os\n",
    "import json\n",
    "import torch\n",
    "import torch.nn as nn\n",
    "import torch.optim as optim\n",
    "from torch.utils.data import Dataset, DataLoader\n",
    "from torchvision import models, transforms\n",
    "from PIL import Image\n",
    "import matplotlib.pyplot as plt"
   ]
  },
  {
   "cell_type": "code",
   "execution_count": 160,
   "id": "b99d0c67-c158-4bcd-8b55-f46f1425d484",
   "metadata": {},
   "outputs": [],
   "source": [
    "NUM_SAMPLES = 500"
   ]
  },
  {
   "cell_type": "code",
   "execution_count": 161,
   "id": "7590493c-7450-48ab-a838-e3280ea74f63",
   "metadata": {},
   "outputs": [],
   "source": [
    "class TrafficLightDataset(Dataset):\n",
    "    def __init__(self, images_dir, annotations_file, transform=None):\n",
    "        self.images_dir = images_dir\n",
    "        self.transform = transform\n",
    "        self.num_samples = NUM_SAMPLES\n",
    "        \n",
    "        with open(annotations_file, 'r') as f:\n",
    "            self.annotations = json.load(f)[\"annotations\"]\n",
    "        \n",
    "        self.image_files = [\n",
    "            ann[\"filename\"].replace(\"\\\\\", \"/\").replace(\"train_images/train_images\", \"train_images\")\n",
    "            for ann in self.annotations\n",
    "        ]\n",
    "        \n",
    "        self.image_files = self.image_files[:self.num_samples]\n",
    "        self.annotations = self.annotations[:self.num_samples]\n",
    "    \n",
    "    def __len__(self):\n",
    "        return len(self.image_files)\n",
    "    \n",
    "    def __getitem__(self, idx):\n",
    "        image_path = os.path.join(self.images_dir, self.image_files[idx])\n",
    "        \n",
    "        if not os.path.exists(image_path):\n",
    "            print(f\"Warning: Image {image_path} not found!\")\n",
    "            return None, None\n",
    "        \n",
    "        image = Image.open(image_path).convert(\"RGB\")\n",
    "        \n",
    "        ann = [a for a in self.annotations if a[\"filename\"] == self.image_files[idx]]\n",
    "        \n",
    "        labels = torch.zeros(3)\n",
    "        \n",
    "        for obj in ann:\n",
    "            for light in obj[\"inbox\"]:\n",
    "                if light[\"ignore\"] == 0:  # Only visible lights\n",
    "                    color = light[\"color\"]\n",
    "                    if color == \"red\":\n",
    "                        labels[0] = 1\n",
    "                    elif color == \"green\":\n",
    "                        labels[1] = 1\n",
    "                    elif color == \"yellow\":\n",
    "                        labels[2] = 1\n",
    "        \n",
    "        if self.transform:\n",
    "            image = self.transform(image)\n",
    "        \n",
    "        return image, labels"
   ]
  },
  {
   "cell_type": "code",
   "execution_count": 162,
   "id": "c68be4ff-e93f-441e-86e9-493bcde6be1f",
   "metadata": {},
   "outputs": [],
   "source": [
    "images_dir = './data/images/train_dataset/'\n",
    "annotations_file = './data/images/train_dataset/train.json'"
   ]
  },
  {
   "cell_type": "markdown",
   "id": "0e5da768-58a3-4fa6-bcc4-02abdf9bdad0",
   "metadata": {},
   "source": [
    "Transformations"
   ]
  },
  {
   "cell_type": "code",
   "execution_count": 163,
   "id": "48502360-fed2-478e-b210-af3dc85f6424",
   "metadata": {},
   "outputs": [],
   "source": [
    "transform = transforms.Compose([\n",
    "    transforms.Resize((224, 224)),\n",
    "    transforms.ToTensor(),\n",
    "])"
   ]
  },
  {
   "cell_type": "code",
   "execution_count": 164,
   "id": "40fa5f15-e39c-485e-bccf-7c5897cf04bc",
   "metadata": {},
   "outputs": [],
   "source": [
    "train_dataset = TrafficLightDataset(\n",
    "    images_dir=images_dir,\n",
    "    annotations_file=annotations_file,\n",
    "    transform=transform\n",
    ")"
   ]
  },
  {
   "cell_type": "code",
   "execution_count": 165,
   "id": "7837f45a-7278-41e7-acae-c60f3c66ce56",
   "metadata": {},
   "outputs": [],
   "source": [
    "train_loader = DataLoader(train_dataset, batch_size=32, shuffle=True)"
   ]
  },
  {
   "cell_type": "code",
   "execution_count": 166,
   "id": "200c8cf4-7519-4f1d-9253-74ea8e3e5d77",
   "metadata": {},
   "outputs": [
    {
     "name": "stdout",
     "output_type": "stream",
     "text": [
      "Number of samples in dataset: 500\n",
      "Label: tensor([0., 0., 0.])\n"
     ]
    }
   ],
   "source": [
    "print(f\"Number of samples in dataset: {len(train_dataset)}\")\n",
    "image, label = train_dataset[0]\n",
    "print(f\"Label: {label}\")"
   ]
  },
  {
   "cell_type": "markdown",
   "id": "56e8cb98-2a80-4f98-b7e3-700525248dd2",
   "metadata": {},
   "source": [
    "#### a) Training From Scratch"
   ]
  },
  {
   "cell_type": "code",
   "execution_count": 167,
   "id": "6574a966-5132-428b-b2b4-0b89e8675674",
   "metadata": {},
   "outputs": [],
   "source": [
    "class TrafficLightCNN(nn.Module):\n",
    "    def __init__(self, num_classes=3):\n",
    "        super(TrafficLightCNN, self).__init__()\n",
    "        \n",
    "        self.conv1 = nn.Conv2d(in_channels=3, out_channels=32, kernel_size=3, stride=1, padding=1)\n",
    "        self.conv2 = nn.Conv2d(32, 64, 3, 1, 1)\n",
    "        self.conv3 = nn.Conv2d(64, 128, 3, 1, 1)\n",
    "        \n",
    "        self.pool = nn.MaxPool2d(2, 2)\n",
    "        \n",
    "        self.fc1 = nn.Linear(128 * 28 * 28, 512)\n",
    "        self.fc2 = nn.Linear(512, num_classes)\n",
    "        \n",
    "        self.dropout = nn.Dropout(0.5)\n",
    "\n",
    "    def forward(self, x):\n",
    "        x = self.pool(torch.relu(self.conv1(x)))\n",
    "        x = self.pool(torch.relu(self.conv2(x)))\n",
    "        x = self.pool(torch.relu(self.conv3(x)))\n",
    "        \n",
    "        x = x.view(-1, 128 * 28 * 28)  # Flatten the tensor\n",
    "        x = torch.relu(self.fc1(x))\n",
    "        x = self.dropout(x)\n",
    "        x = self.fc2(x)\n",
    "        \n",
    "        return x"
   ]
  },
  {
   "cell_type": "markdown",
   "id": "2e6f7bbb-b700-46c4-8744-6ffe47c00337",
   "metadata": {},
   "source": [
    "Model, loss function and optimizer initialization"
   ]
  },
  {
   "cell_type": "markdown",
   "id": "7b5649e9-e597-4ccc-8b2c-2eeca4533322",
   "metadata": {},
   "source": [
    "3 output classes: red, green, yellow"
   ]
  },
  {
   "cell_type": "code",
   "execution_count": 168,
   "id": "efed3d0c-d74d-4089-9bec-a935508a2d50",
   "metadata": {},
   "outputs": [],
   "source": [
    "model = TrafficLightCNN(num_classes=3)"
   ]
  },
  {
   "cell_type": "code",
   "execution_count": 169,
   "id": "30a06fe7-2ce4-447c-ba8d-71530f6cdf72",
   "metadata": {},
   "outputs": [],
   "source": [
    "device = torch.device(\"cuda\" if torch.cuda.is_available() else \"cpu\")\n",
    "model = model.to(device)"
   ]
  },
  {
   "cell_type": "markdown",
   "id": "3bec8eb7-9cdf-46f7-89d0-f123bced9a72",
   "metadata": {},
   "source": [
    "Binary Cross-Entropy Loss with logits and Adam optimizer"
   ]
  },
  {
   "cell_type": "code",
   "execution_count": 170,
   "id": "4a970bac-b753-4694-a6bc-2de5b7d44171",
   "metadata": {},
   "outputs": [],
   "source": [
    "criterion = nn.BCEWithLogitsLoss()\n",
    "optimizer = optim.Adam(model.parameters(), lr=0.001)"
   ]
  },
  {
   "cell_type": "code",
   "execution_count": 171,
   "id": "9ea78533-8f8a-46f2-8502-306c348437df",
   "metadata": {},
   "outputs": [
    {
     "name": "stdout",
     "output_type": "stream",
     "text": [
      "Epoch [1/3], Loss: 0.0438\n",
      "Epoch [2/3], Loss: 0.0000\n",
      "Epoch [3/3], Loss: 0.0000\n"
     ]
    }
   ],
   "source": [
    "num_epochs = 3\n",
    "\n",
    "for epoch in range(num_epochs):\n",
    "    model.train()\n",
    "    running_loss = 0.0\n",
    "    correct = 0\n",
    "    total = 0\n",
    "    \n",
    "    for i, (images, labels) in enumerate(train_loader):\n",
    "        if images is None or labels is None:\n",
    "            continue\n",
    "        \n",
    "        images, labels = images.to(device), labels.to(device)\n",
    "        \n",
    "        optimizer.zero_grad()\n",
    "\n",
    "        outputs = model(images)\n",
    "        \n",
    "        loss = criterion(outputs, labels)\n",
    "        \n",
    "        loss.backward()\n",
    "        optimizer.step()\n",
    "\n",
    "        running_loss += loss.item()\n",
    "\n",
    "    avg_loss = running_loss / len(train_loader)\n",
    "    print(f\"Epoch [{epoch+1}/{num_epochs}], Loss: {avg_loss:.4f}\")"
   ]
  },
  {
   "cell_type": "markdown",
   "id": "9777f1f6-c5e1-4eab-9b8d-ac39b6ec80c0",
   "metadata": {},
   "source": [
    "Model Evaluation"
   ]
  },
  {
   "cell_type": "code",
   "execution_count": 172,
   "id": "5fc00686-195b-4db9-a93b-f65647f8d8e5",
   "metadata": {},
   "outputs": [
    {
     "name": "stdout",
     "output_type": "stream",
     "text": [
      "Final accuracy: 100.00%\n"
     ]
    }
   ],
   "source": [
    "model.eval()\n",
    "\n",
    "correct = 0\n",
    "total = 0\n",
    "\n",
    "with torch.no_grad():\n",
    "    for images, labels in train_loader:\n",
    "        images, labels = images.to(device), labels.to(device)\n",
    "        \n",
    "        # Forward pass\n",
    "        outputs = model(images)\n",
    "        \n",
    "        # sigmoid is applied to convert logits to probabilities (gives probabilities for each label)\n",
    "        probas = torch.sigmoid(outputs)\n",
    "\n",
    "        # threshold to get binary predictions\n",
    "        predicted = (probas > 0.5).float()\n",
    "        \n",
    "        correct_labels = (predicted == labels).sum(dim=1)\n",
    "        correct += correct_labels.sum().item()\n",
    "        total += labels.numel()\n",
    "\n",
    "accuracy = 100 * correct / total\n",
    "print(f\"Final accuracy: {accuracy:.2f}%\")"
   ]
  },
  {
   "cell_type": "markdown",
   "id": "dcdd7e7f-fbf7-41e6-ab86-692227215f26",
   "metadata": {},
   "source": [
    "#### b) Transfer learning from pre-trained weights"
   ]
  },
  {
   "cell_type": "code",
   "execution_count": 173,
   "id": "12629936-5306-4bfb-ba5e-47a5b6aad512",
   "metadata": {},
   "outputs": [
    {
     "name": "stderr",
     "output_type": "stream",
     "text": [
      "C:\\Users\\user\\AppData\\Local\\Packages\\PythonSoftwareFoundation.Python.3.12_qbz5n2kfra8p0\\LocalCache\\local-packages\\Python312\\site-packages\\torchvision\\models\\_utils.py:208: UserWarning: The parameter 'pretrained' is deprecated since 0.13 and may be removed in the future, please use 'weights' instead.\n",
      "  warnings.warn(\n",
      "C:\\Users\\user\\AppData\\Local\\Packages\\PythonSoftwareFoundation.Python.3.12_qbz5n2kfra8p0\\LocalCache\\local-packages\\Python312\\site-packages\\torchvision\\models\\_utils.py:223: UserWarning: Arguments other than a weight enum or `None` for 'weights' are deprecated since 0.13 and may be removed in the future. The current behavior is equivalent to passing `weights=ResNet18_Weights.IMAGENET1K_V1`. You can also use `weights=ResNet18_Weights.DEFAULT` to get the most up-to-date weights.\n",
      "  warnings.warn(msg)\n"
     ]
    },
    {
     "name": "stdout",
     "output_type": "stream",
     "text": [
      "ResNet(\n",
      "  (conv1): Conv2d(3, 64, kernel_size=(7, 7), stride=(2, 2), padding=(3, 3), bias=False)\n",
      "  (bn1): BatchNorm2d(64, eps=1e-05, momentum=0.1, affine=True, track_running_stats=True)\n",
      "  (relu): ReLU(inplace=True)\n",
      "  (maxpool): MaxPool2d(kernel_size=3, stride=2, padding=1, dilation=1, ceil_mode=False)\n",
      "  (layer1): Sequential(\n",
      "    (0): BasicBlock(\n",
      "      (conv1): Conv2d(64, 64, kernel_size=(3, 3), stride=(1, 1), padding=(1, 1), bias=False)\n",
      "      (bn1): BatchNorm2d(64, eps=1e-05, momentum=0.1, affine=True, track_running_stats=True)\n",
      "      (relu): ReLU(inplace=True)\n",
      "      (conv2): Conv2d(64, 64, kernel_size=(3, 3), stride=(1, 1), padding=(1, 1), bias=False)\n",
      "      (bn2): BatchNorm2d(64, eps=1e-05, momentum=0.1, affine=True, track_running_stats=True)\n",
      "    )\n",
      "    (1): BasicBlock(\n",
      "      (conv1): Conv2d(64, 64, kernel_size=(3, 3), stride=(1, 1), padding=(1, 1), bias=False)\n",
      "      (bn1): BatchNorm2d(64, eps=1e-05, momentum=0.1, affine=True, track_running_stats=True)\n",
      "      (relu): ReLU(inplace=True)\n",
      "      (conv2): Conv2d(64, 64, kernel_size=(3, 3), stride=(1, 1), padding=(1, 1), bias=False)\n",
      "      (bn2): BatchNorm2d(64, eps=1e-05, momentum=0.1, affine=True, track_running_stats=True)\n",
      "    )\n",
      "  )\n",
      "  (layer2): Sequential(\n",
      "    (0): BasicBlock(\n",
      "      (conv1): Conv2d(64, 128, kernel_size=(3, 3), stride=(2, 2), padding=(1, 1), bias=False)\n",
      "      (bn1): BatchNorm2d(128, eps=1e-05, momentum=0.1, affine=True, track_running_stats=True)\n",
      "      (relu): ReLU(inplace=True)\n",
      "      (conv2): Conv2d(128, 128, kernel_size=(3, 3), stride=(1, 1), padding=(1, 1), bias=False)\n",
      "      (bn2): BatchNorm2d(128, eps=1e-05, momentum=0.1, affine=True, track_running_stats=True)\n",
      "      (downsample): Sequential(\n",
      "        (0): Conv2d(64, 128, kernel_size=(1, 1), stride=(2, 2), bias=False)\n",
      "        (1): BatchNorm2d(128, eps=1e-05, momentum=0.1, affine=True, track_running_stats=True)\n",
      "      )\n",
      "    )\n",
      "    (1): BasicBlock(\n",
      "      (conv1): Conv2d(128, 128, kernel_size=(3, 3), stride=(1, 1), padding=(1, 1), bias=False)\n",
      "      (bn1): BatchNorm2d(128, eps=1e-05, momentum=0.1, affine=True, track_running_stats=True)\n",
      "      (relu): ReLU(inplace=True)\n",
      "      (conv2): Conv2d(128, 128, kernel_size=(3, 3), stride=(1, 1), padding=(1, 1), bias=False)\n",
      "      (bn2): BatchNorm2d(128, eps=1e-05, momentum=0.1, affine=True, track_running_stats=True)\n",
      "    )\n",
      "  )\n",
      "  (layer3): Sequential(\n",
      "    (0): BasicBlock(\n",
      "      (conv1): Conv2d(128, 256, kernel_size=(3, 3), stride=(2, 2), padding=(1, 1), bias=False)\n",
      "      (bn1): BatchNorm2d(256, eps=1e-05, momentum=0.1, affine=True, track_running_stats=True)\n",
      "      (relu): ReLU(inplace=True)\n",
      "      (conv2): Conv2d(256, 256, kernel_size=(3, 3), stride=(1, 1), padding=(1, 1), bias=False)\n",
      "      (bn2): BatchNorm2d(256, eps=1e-05, momentum=0.1, affine=True, track_running_stats=True)\n",
      "      (downsample): Sequential(\n",
      "        (0): Conv2d(128, 256, kernel_size=(1, 1), stride=(2, 2), bias=False)\n",
      "        (1): BatchNorm2d(256, eps=1e-05, momentum=0.1, affine=True, track_running_stats=True)\n",
      "      )\n",
      "    )\n",
      "    (1): BasicBlock(\n",
      "      (conv1): Conv2d(256, 256, kernel_size=(3, 3), stride=(1, 1), padding=(1, 1), bias=False)\n",
      "      (bn1): BatchNorm2d(256, eps=1e-05, momentum=0.1, affine=True, track_running_stats=True)\n",
      "      (relu): ReLU(inplace=True)\n",
      "      (conv2): Conv2d(256, 256, kernel_size=(3, 3), stride=(1, 1), padding=(1, 1), bias=False)\n",
      "      (bn2): BatchNorm2d(256, eps=1e-05, momentum=0.1, affine=True, track_running_stats=True)\n",
      "    )\n",
      "  )\n",
      "  (layer4): Sequential(\n",
      "    (0): BasicBlock(\n",
      "      (conv1): Conv2d(256, 512, kernel_size=(3, 3), stride=(2, 2), padding=(1, 1), bias=False)\n",
      "      (bn1): BatchNorm2d(512, eps=1e-05, momentum=0.1, affine=True, track_running_stats=True)\n",
      "      (relu): ReLU(inplace=True)\n",
      "      (conv2): Conv2d(512, 512, kernel_size=(3, 3), stride=(1, 1), padding=(1, 1), bias=False)\n",
      "      (bn2): BatchNorm2d(512, eps=1e-05, momentum=0.1, affine=True, track_running_stats=True)\n",
      "      (downsample): Sequential(\n",
      "        (0): Conv2d(256, 512, kernel_size=(1, 1), stride=(2, 2), bias=False)\n",
      "        (1): BatchNorm2d(512, eps=1e-05, momentum=0.1, affine=True, track_running_stats=True)\n",
      "      )\n",
      "    )\n",
      "    (1): BasicBlock(\n",
      "      (conv1): Conv2d(512, 512, kernel_size=(3, 3), stride=(1, 1), padding=(1, 1), bias=False)\n",
      "      (bn1): BatchNorm2d(512, eps=1e-05, momentum=0.1, affine=True, track_running_stats=True)\n",
      "      (relu): ReLU(inplace=True)\n",
      "      (conv2): Conv2d(512, 512, kernel_size=(3, 3), stride=(1, 1), padding=(1, 1), bias=False)\n",
      "      (bn2): BatchNorm2d(512, eps=1e-05, momentum=0.1, affine=True, track_running_stats=True)\n",
      "    )\n",
      "  )\n",
      "  (avgpool): AdaptiveAvgPool2d(output_size=(1, 1))\n",
      "  (fc): Linear(in_features=512, out_features=3, bias=True)\n",
      ")\n"
     ]
    }
   ],
   "source": [
    "NUM_CLASSES = 3\n",
    "\n",
    "model = models.resnet18(pretrained=True)\n",
    "\n",
    "# final fully connected layer should match the number of output classes\n",
    "model.fc = nn.Linear(model.fc.in_features, NUM_CLASSES)\n",
    "\n",
    "device = torch.device(\"cuda\" if torch.cuda.is_available() else \"cpu\")\n",
    "model = model.to(device)\n",
    "\n",
    "# freeze the convolutional layers (only train the fully connected layer initially)\n",
    "for param in model.parameters():\n",
    "    param.requires_grad = False\n",
    "\n",
    "# unfreeze the fully connected layer\n",
    "for param in model.fc.parameters():\n",
    "    param.requires_grad = True\n",
    "\n",
    "print(model)"
   ]
  },
  {
   "cell_type": "markdown",
   "id": "49764ba1-392d-4c0f-812e-ef0ac25c2ec4",
   "metadata": {},
   "source": [
    "Binary Cross-Entropy Loss with logits and Adam optimizer."
   ]
  },
  {
   "cell_type": "code",
   "execution_count": 174,
   "id": "2b64363a-7c24-4389-aea7-d1dcc7fb08be",
   "metadata": {},
   "outputs": [],
   "source": [
    "criterion = nn.BCEWithLogitsLoss()\n",
    "\n",
    "optimizer = optim.Adam(model.fc.parameters(), lr=0.001)"
   ]
  },
  {
   "cell_type": "markdown",
   "id": "4be3be0d-3874-4dd5-b982-15005b28048f",
   "metadata": {},
   "source": [
    "Resize to shape required by ResNet, convert image to tensor and normalize as ImageNet"
   ]
  },
  {
   "cell_type": "code",
   "execution_count": 175,
   "id": "1646b13f-3dcb-47ee-8058-1c344f0fcee3",
   "metadata": {},
   "outputs": [],
   "source": [
    "transform = transforms.Compose([\n",
    "    transforms.Resize((224, 224)),\n",
    "    transforms.ToTensor(),\n",
    "    transforms.Normalize(mean=[0.485, 0.456, 0.406], std=[0.229, 0.224, 0.225])\n",
    "])"
   ]
  },
  {
   "cell_type": "code",
   "execution_count": 176,
   "id": "0a1296f8-8290-40e3-aa31-dd44210dda24",
   "metadata": {},
   "outputs": [],
   "source": [
    "train_dataset = TrafficLightDataset(\n",
    "    images_dir='./data/images/train_dataset/',\n",
    "    annotations_file='./data/images/train_dataset/train.json',\n",
    "    transform=transform\n",
    ")\n",
    "\n",
    "train_loader = DataLoader(train_dataset, batch_size=32, shuffle=True)"
   ]
  },
  {
   "cell_type": "markdown",
   "id": "2921971d-81d8-4c90-b809-b91dfc96ca02",
   "metadata": {},
   "source": [
    "Training loop for transfer learning (initially training the fully connected layer)"
   ]
  },
  {
   "cell_type": "code",
   "execution_count": 179,
   "id": "60ad3722-be84-4894-85cc-5de01fcd945f",
   "metadata": {},
   "outputs": [
    {
     "name": "stdout",
     "output_type": "stream",
     "text": [
      "Epoch [1/5], Loss: 0.0015\n",
      "Epoch [2/5], Loss: 0.0013\n",
      "Epoch [3/5], Loss: 0.0011\n",
      "Epoch [4/5], Loss: 0.0010\n",
      "Epoch [5/5], Loss: 0.0009\n"
     ]
    }
   ],
   "source": [
    "num_epochs = 5\n",
    "for epoch in range(num_epochs):\n",
    "    model.train()\n",
    "    running_loss = 0.0\n",
    "    correct = 0\n",
    "    total = 0\n",
    "\n",
    "    for i, (images, labels) in enumerate(train_loader):\n",
    "        if images is None or labels is None:\n",
    "            continue\n",
    "\n",
    "        # move tensors to the device\n",
    "        images, labels = images.to(device), labels.to(device)\n",
    "\n",
    "        optimizer.zero_grad()\n",
    "\n",
    "        outputs = model(images)\n",
    "\n",
    "        loss = criterion(outputs, labels)\n",
    "\n",
    "        loss.backward()\n",
    "        optimizer.step()\n",
    "\n",
    "        running_loss += loss.item()\n",
    "\n",
    "    avg_loss = running_loss / len(train_loader)\n",
    "\n",
    "    print(f\"Epoch [{epoch+1}/{num_epochs}], Loss: {avg_loss:.4f}\")"
   ]
  },
  {
   "cell_type": "markdown",
   "id": "2ab64dff-a11d-4935-92db-53a1c5458b28",
   "metadata": {},
   "source": [
    "Unfreeze the model to fine-tune all layers"
   ]
  },
  {
   "cell_type": "code",
   "execution_count": 180,
   "id": "9896765a-901f-487c-b6cd-ff064ebcf44c",
   "metadata": {},
   "outputs": [],
   "source": [
    "for param in model.parameters():\n",
    "    param.requires_grad = True"
   ]
  },
  {
   "cell_type": "markdown",
   "id": "6d8e86de-16d0-4bec-8317-a1ef1354c80b",
   "metadata": {},
   "source": [
    "Re-initialize the optimizer to update all layers and set smaller learning rate for fine-tuning"
   ]
  },
  {
   "cell_type": "code",
   "execution_count": 181,
   "id": "3eaf0990-2433-4a41-b9e0-8a1f28c24d03",
   "metadata": {},
   "outputs": [],
   "source": [
    "optimizer = optim.Adam(model.parameters(), lr=0.0001)"
   ]
  },
  {
   "cell_type": "code",
   "execution_count": 182,
   "id": "5b4b5f88-dd6b-4388-8a89-34dbb352c704",
   "metadata": {},
   "outputs": [
    {
     "name": "stdout",
     "output_type": "stream",
     "text": [
      "Fine-tuning Epoch [1/5], Loss: 0.0005\n",
      "Fine-tuning Epoch [2/5], Loss: 0.0001\n",
      "Fine-tuning Epoch [3/5], Loss: 0.0001\n",
      "Fine-tuning Epoch [4/5], Loss: 0.0000\n",
      "Fine-tuning Epoch [5/5], Loss: 0.0000\n"
     ]
    }
   ],
   "source": [
    "num_epochs = 5\n",
    "for epoch in range(num_epochs):\n",
    "    model.train()\n",
    "    running_loss = 0.0\n",
    "    correct = 0\n",
    "    total = 0\n",
    "\n",
    "    for i, (images, labels) in enumerate(train_loader):\n",
    "        if images is None or labels is None:\n",
    "            continue\n",
    "\n",
    "        images, labels = images.to(device), labels.to(device)\n",
    "\n",
    "        optimizer.zero_grad()\n",
    "\n",
    "        outputs = model(images)\n",
    "\n",
    "        loss = criterion(outputs, labels)\n",
    "\n",
    "        loss.backward()\n",
    "        optimizer.step()\n",
    "\n",
    "        running_loss += loss.item()\n",
    "\n",
    "    avg_loss = running_loss / len(train_loader)\n",
    "\n",
    "    print(f\"Fine-tuning Epoch [{epoch+1}/{num_epochs}], Loss: {avg_loss:.4f}\")"
   ]
  },
  {
   "cell_type": "code",
   "execution_count": 183,
   "id": "978a9448-fde9-4f9c-8b80-9fb89c8de352",
   "metadata": {},
   "outputs": [
    {
     "name": "stdout",
     "output_type": "stream",
     "text": [
      "Final accuracy: 100.00%\n"
     ]
    }
   ],
   "source": [
    "model.eval()\n",
    "\n",
    "correct = 0\n",
    "total = 0\n",
    "\n",
    "with torch.no_grad():\n",
    "    for images, labels in train_loader:\n",
    "        images, labels = images.to(device), labels.to(device)\n",
    "\n",
    "        outputs = model(images)\n",
    "\n",
    "        probas = torch.sigmoid(outputs)\n",
    "\n",
    "        predicted = (probas > 0.5).float()\n",
    "\n",
    "        correct_labels = (predicted == labels).sum(dim=1)\n",
    "        correct += correct_labels.sum().item()\n",
    "        total += labels.numel()\n",
    "\n",
    "accuracy = 100 * correct / total\n",
    "print(f\"Final accuracy: {accuracy:.2f}%\")"
   ]
  },
  {
   "cell_type": "markdown",
   "id": "e9ada618-7ac8-4deb-a24b-f0ff69e72f2e",
   "metadata": {},
   "source": [
    "### 3. Рекурентні нейронні мережі"
   ]
  },
  {
   "cell_type": "markdown",
   "id": "ad192c50-5af0-4862-890f-b1f247724437",
   "metadata": {},
   "source": [
    "Вирішіть задачу класифікації текстів (з якими ви працювали в лабораторній № 2) за допомогою рекурентної нейромережі двома способами:\n",
    "\n",
    "а) навчить мережу і embedding шар з нуля (from scratch)\n",
    "\n",
    "б) використовуючи pretrained word embeddings"
   ]
  },
  {
   "cell_type": "code",
   "execution_count": 184,
   "id": "e4ea8d5a-0dc6-4099-8d04-10e169ecbf61",
   "metadata": {},
   "outputs": [],
   "source": [
    "import nltk\n",
    "from nltk.tokenize import word_tokenize\n",
    "from nltk.corpus import stopwords\n",
    "import string"
   ]
  },
  {
   "cell_type": "code",
   "execution_count": 185,
   "id": "325dd735-5177-4183-91d1-71df3a1ba46c",
   "metadata": {},
   "outputs": [
    {
     "name": "stderr",
     "output_type": "stream",
     "text": [
      "[nltk_data] Downloading package punkt to\n",
      "[nltk_data]     C:\\Users\\user\\AppData\\Roaming\\nltk_data...\n",
      "[nltk_data]   Package punkt is already up-to-date!\n",
      "[nltk_data] Downloading package stopwords to\n",
      "[nltk_data]     C:\\Users\\user\\AppData\\Roaming\\nltk_data...\n",
      "[nltk_data]   Package stopwords is already up-to-date!\n"
     ]
    },
    {
     "data": {
      "text/plain": [
       "True"
      ]
     },
     "execution_count": 185,
     "metadata": {},
     "output_type": "execute_result"
    }
   ],
   "source": [
    "nltk.download('punkt')\n",
    "nltk.download('stopwords')"
   ]
  },
  {
   "cell_type": "code",
   "execution_count": 186,
   "id": "19f4e4b8-56bb-4b94-b7d9-1bf57e279476",
   "metadata": {},
   "outputs": [],
   "source": [
    "data = pd.read_json('data/yelp_academic_dataset_review.json', lines=True, nrows=90000)"
   ]
  },
  {
   "cell_type": "code",
   "execution_count": 187,
   "id": "cce6066a-8776-4596-9e3d-56bf8be2c7ed",
   "metadata": {},
   "outputs": [],
   "source": [
    "stop_words = set(stopwords.words('english'))\n",
    "\n",
    "def preprocess(text, custom_stopwords=None):\n",
    "    if custom_stopwords is None:\n",
    "        custom_stopwords = set()\n",
    "    else:\n",
    "        custom_stopwords = set(custom_stopwords)\n",
    "    \n",
    "    all_stopwords = stop_words.union(custom_stopwords)\n",
    "\n",
    "    tokens = word_tokenize(text.lower())\n",
    "    tokens = [word for word in tokens if word.isalpha() and word not in all_stopwords]\n",
    "    \n",
    "    return ' '.join(tokens)"
   ]
  },
  {
   "cell_type": "code",
   "execution_count": 188,
   "id": "b446111b-3f9e-4455-b158-1b0e376da996",
   "metadata": {},
   "outputs": [],
   "source": [
    "custom_stopwords = ['place', 'one', 'got', 'food', 'drink', 'good', 'restaurant', 'said', 'even', 'told', 'order', 'ordered',\n",
    "                    'really', 'table', 'thing', 'though', 'think', 'menu', 'came', 'go', 'went', 'location', 'pizza', 'time',\n",
    "                    'ask', 'asked', 'people', 'always', 'know', 'still', 'u', 'two', 'three', 'us', 'way', 'service', 'make',\n",
    "                    'going', 'first', 'second', 'third']"
   ]
  },
  {
   "cell_type": "code",
   "execution_count": 189,
   "id": "f3caf455-ff78-4643-a5b1-ac87ebef881d",
   "metadata": {},
   "outputs": [
    {
     "data": {
      "text/html": [
       "<div>\n",
       "<style scoped>\n",
       "    .dataframe tbody tr th:only-of-type {\n",
       "        vertical-align: middle;\n",
       "    }\n",
       "\n",
       "    .dataframe tbody tr th {\n",
       "        vertical-align: top;\n",
       "    }\n",
       "\n",
       "    .dataframe thead th {\n",
       "        text-align: right;\n",
       "    }\n",
       "</style>\n",
       "<table border=\"1\" class=\"dataframe\">\n",
       "  <thead>\n",
       "    <tr style=\"text-align: right;\">\n",
       "      <th></th>\n",
       "      <th>text</th>\n",
       "      <th>cleaned_text</th>\n",
       "    </tr>\n",
       "  </thead>\n",
       "  <tbody>\n",
       "    <tr>\n",
       "      <th>0</th>\n",
       "      <td>If you decide to eat here, just be aware it is...</td>\n",
       "      <td>decide eat aware take hours beginning end trie...</td>\n",
       "    </tr>\n",
       "    <tr>\n",
       "      <th>1</th>\n",
       "      <td>I've taken a lot of spin classes over the year...</td>\n",
       "      <td>taken lot spin classes years nothing compares ...</td>\n",
       "    </tr>\n",
       "    <tr>\n",
       "      <th>2</th>\n",
       "      <td>Family diner. Had the buffet. Eclectic assortm...</td>\n",
       "      <td>family diner buffet eclectic assortment large ...</td>\n",
       "    </tr>\n",
       "    <tr>\n",
       "      <th>3</th>\n",
       "      <td>Wow!  Yummy, different,  delicious.   Our favo...</td>\n",
       "      <td>wow yummy different delicious favorite lamb cu...</td>\n",
       "    </tr>\n",
       "    <tr>\n",
       "      <th>4</th>\n",
       "      <td>Cute interior and owner (?) gave us tour of up...</td>\n",
       "      <td>cute interior owner gave tour upcoming area gr...</td>\n",
       "    </tr>\n",
       "  </tbody>\n",
       "</table>\n",
       "</div>"
      ],
      "text/plain": [
       "                                                text  \\\n",
       "0  If you decide to eat here, just be aware it is...   \n",
       "1  I've taken a lot of spin classes over the year...   \n",
       "2  Family diner. Had the buffet. Eclectic assortm...   \n",
       "3  Wow!  Yummy, different,  delicious.   Our favo...   \n",
       "4  Cute interior and owner (?) gave us tour of up...   \n",
       "\n",
       "                                        cleaned_text  \n",
       "0  decide eat aware take hours beginning end trie...  \n",
       "1  taken lot spin classes years nothing compares ...  \n",
       "2  family diner buffet eclectic assortment large ...  \n",
       "3  wow yummy different delicious favorite lamb cu...  \n",
       "4  cute interior owner gave tour upcoming area gr...  "
      ]
     },
     "execution_count": 189,
     "metadata": {},
     "output_type": "execute_result"
    }
   ],
   "source": [
    "data['cleaned_text'] = data['text'].apply(lambda x: preprocess(x, custom_stopwords))\n",
    "\n",
    "data[['text', 'cleaned_text']].head()"
   ]
  },
  {
   "cell_type": "markdown",
   "id": "88ce7b2e-b0b4-4397-9112-079fad24913a",
   "metadata": {},
   "source": [
    "#### а) навчить мережу і embedding шар з нуля (from scratch)"
   ]
  },
  {
   "cell_type": "code",
   "execution_count": 190,
   "id": "27dfdaba-51f8-44c7-bb70-8a327b2d3c10",
   "metadata": {},
   "outputs": [],
   "source": [
    "import torch.nn.functional as F"
   ]
  },
  {
   "cell_type": "code",
   "execution_count": 191,
   "id": "32ae1023-9be7-47ed-bf39-af38ef4a5e42",
   "metadata": {},
   "outputs": [
    {
     "data": {
      "text/html": [
       "<div>\n",
       "<style scoped>\n",
       "    .dataframe tbody tr th:only-of-type {\n",
       "        vertical-align: middle;\n",
       "    }\n",
       "\n",
       "    .dataframe tbody tr th {\n",
       "        vertical-align: top;\n",
       "    }\n",
       "\n",
       "    .dataframe thead th {\n",
       "        text-align: right;\n",
       "    }\n",
       "</style>\n",
       "<table border=\"1\" class=\"dataframe\">\n",
       "  <thead>\n",
       "    <tr style=\"text-align: right;\">\n",
       "      <th></th>\n",
       "      <th>cleaned_text</th>\n",
       "      <th>tokens</th>\n",
       "    </tr>\n",
       "  </thead>\n",
       "  <tbody>\n",
       "    <tr>\n",
       "      <th>0</th>\n",
       "      <td>decide eat aware take hours beginning end trie...</td>\n",
       "      <td>[decide, eat, aware, take, hours, beginning, e...</td>\n",
       "    </tr>\n",
       "    <tr>\n",
       "      <th>1</th>\n",
       "      <td>taken lot spin classes years nothing compares ...</td>\n",
       "      <td>[taken, lot, spin, classes, years, nothing, co...</td>\n",
       "    </tr>\n",
       "    <tr>\n",
       "      <th>2</th>\n",
       "      <td>family diner buffet eclectic assortment large ...</td>\n",
       "      <td>[family, diner, buffet, eclectic, assortment, ...</td>\n",
       "    </tr>\n",
       "    <tr>\n",
       "      <th>3</th>\n",
       "      <td>wow yummy different delicious favorite lamb cu...</td>\n",
       "      <td>[wow, yummy, different, delicious, favorite, l...</td>\n",
       "    </tr>\n",
       "    <tr>\n",
       "      <th>4</th>\n",
       "      <td>cute interior owner gave tour upcoming area gr...</td>\n",
       "      <td>[cute, interior, owner, gave, tour, upcoming, ...</td>\n",
       "    </tr>\n",
       "  </tbody>\n",
       "</table>\n",
       "</div>"
      ],
      "text/plain": [
       "                                        cleaned_text  \\\n",
       "0  decide eat aware take hours beginning end trie...   \n",
       "1  taken lot spin classes years nothing compares ...   \n",
       "2  family diner buffet eclectic assortment large ...   \n",
       "3  wow yummy different delicious favorite lamb cu...   \n",
       "4  cute interior owner gave tour upcoming area gr...   \n",
       "\n",
       "                                              tokens  \n",
       "0  [decide, eat, aware, take, hours, beginning, e...  \n",
       "1  [taken, lot, spin, classes, years, nothing, co...  \n",
       "2  [family, diner, buffet, eclectic, assortment, ...  \n",
       "3  [wow, yummy, different, delicious, favorite, l...  \n",
       "4  [cute, interior, owner, gave, tour, upcoming, ...  "
      ]
     },
     "execution_count": 191,
     "metadata": {},
     "output_type": "execute_result"
    }
   ],
   "source": [
    "def tokenize(text):\n",
    "    return text.split()\n",
    "\n",
    "data['tokens'] = data['cleaned_text'].apply(tokenize)\n",
    "\n",
    "data[['cleaned_text', 'tokens']].head()"
   ]
  },
  {
   "cell_type": "code",
   "execution_count": 192,
   "id": "279e44d8-2d26-489e-b360-424147e6affe",
   "metadata": {},
   "outputs": [
    {
     "data": {
      "text/plain": [
       "61480"
      ]
     },
     "execution_count": 192,
     "metadata": {},
     "output_type": "execute_result"
    }
   ],
   "source": [
    "from collections import Counter\n",
    "\n",
    "counter = Counter([token for tokens in data['tokens'] for token in tokens])\n",
    "vocab = {word: idx+1 for idx, (word, _) in enumerate(counter.most_common())}  # reserve index 0 for padding\n",
    "vocab['<unk>'] = len(vocab) + 1\n",
    "\n",
    "len(vocab)"
   ]
  },
  {
   "cell_type": "code",
   "execution_count": 193,
   "id": "8f443f86-0065-4705-9fa8-a3670e358490",
   "metadata": {},
   "outputs": [
    {
     "data": {
      "text/html": [
       "<div>\n",
       "<style scoped>\n",
       "    .dataframe tbody tr th:only-of-type {\n",
       "        vertical-align: middle;\n",
       "    }\n",
       "\n",
       "    .dataframe tbody tr th {\n",
       "        vertical-align: top;\n",
       "    }\n",
       "\n",
       "    .dataframe thead th {\n",
       "        text-align: right;\n",
       "    }\n",
       "</style>\n",
       "<table border=\"1\" class=\"dataframe\">\n",
       "  <thead>\n",
       "    <tr style=\"text-align: right;\">\n",
       "      <th></th>\n",
       "      <th>tokens</th>\n",
       "      <th>indices</th>\n",
       "    </tr>\n",
       "  </thead>\n",
       "  <tbody>\n",
       "    <tr>\n",
       "      <th>0</th>\n",
       "      <td>[decide, eat, aware, take, hours, beginning, e...</td>\n",
       "      <td>[1290, 39, 1962, 46, 244, 2019, 272, 79, 827, ...</td>\n",
       "    </tr>\n",
       "    <tr>\n",
       "      <th>1</th>\n",
       "      <td>[taken, lot, spin, classes, years, nothing, co...</td>\n",
       "      <td>[596, 69, 3275, 1308, 128, 117, 5059, 1308, 13...</td>\n",
       "    </tr>\n",
       "    <tr>\n",
       "      <th>2</th>\n",
       "      <td>[family, diner, buffet, eclectic, assortment, ...</td>\n",
       "      <td>[145, 903, 502, 2169, 2460, 135, 16, 2503, 97,...</td>\n",
       "    </tr>\n",
       "    <tr>\n",
       "      <th>3</th>\n",
       "      <td>[wow, yummy, different, delicious, favorite, l...</td>\n",
       "      <td>[518, 394, 103, 14, 78, 684, 665, 5303, 103, 1...</td>\n",
       "    </tr>\n",
       "    <tr>\n",
       "      <th>4</th>\n",
       "      <td>[cute, interior, owner, gave, tour, upcoming, ...</td>\n",
       "      <td>[459, 945, 241, 187, 409, 6033, 38, 1, 274, 29...</td>\n",
       "    </tr>\n",
       "  </tbody>\n",
       "</table>\n",
       "</div>"
      ],
      "text/plain": [
       "                                              tokens  \\\n",
       "0  [decide, eat, aware, take, hours, beginning, e...   \n",
       "1  [taken, lot, spin, classes, years, nothing, co...   \n",
       "2  [family, diner, buffet, eclectic, assortment, ...   \n",
       "3  [wow, yummy, different, delicious, favorite, l...   \n",
       "4  [cute, interior, owner, gave, tour, upcoming, ...   \n",
       "\n",
       "                                             indices  \n",
       "0  [1290, 39, 1962, 46, 244, 2019, 272, 79, 827, ...  \n",
       "1  [596, 69, 3275, 1308, 128, 117, 5059, 1308, 13...  \n",
       "2  [145, 903, 502, 2169, 2460, 135, 16, 2503, 97,...  \n",
       "3  [518, 394, 103, 14, 78, 684, 665, 5303, 103, 1...  \n",
       "4  [459, 945, 241, 187, 409, 6033, 38, 1, 274, 29...  "
      ]
     },
     "execution_count": 193,
     "metadata": {},
     "output_type": "execute_result"
    }
   ],
   "source": [
    "def text_to_indices(tokens, vocab):\n",
    "    return [vocab.get(token, vocab['<unk>']) for token in tokens]\n",
    "\n",
    "data['indices'] = data['tokens'].apply(lambda x: text_to_indices(x, vocab))\n",
    "\n",
    "data[['tokens', 'indices']].head()"
   ]
  },
  {
   "cell_type": "code",
   "execution_count": 194,
   "id": "c4994763-c054-475d-bc44-9b2475d3ffa0",
   "metadata": {},
   "outputs": [
    {
     "data": {
      "text/plain": [
       "100"
      ]
     },
     "execution_count": 194,
     "metadata": {},
     "output_type": "execute_result"
    }
   ],
   "source": [
    "def pad_sequences(sequences, max_len):\n",
    "    return [seq + [0] * (max_len - len(seq)) if len(seq) < max_len else seq[:max_len] for seq in sequences]\n",
    "\n",
    "max_sequence_length = 100\n",
    "\n",
    "X = pad_sequences(data['indices'], max_sequence_length)\n",
    "\n",
    "len(X[0])  # = max_sequence_length"
   ]
  },
  {
   "cell_type": "markdown",
   "id": "ce166097-c6a5-4d5b-8118-36d40b0c4598",
   "metadata": {},
   "source": [
    "Convert the input data (X) and labels (y) to PyTorch tensors"
   ]
  },
  {
   "cell_type": "code",
   "execution_count": 195,
   "id": "53994c36-1919-4055-bb4b-8adb32703586",
   "metadata": {},
   "outputs": [
    {
     "data": {
      "text/plain": [
       "(torch.Size([90000, 100]), torch.Size([90000]))"
      ]
     },
     "execution_count": 195,
     "metadata": {},
     "output_type": "execute_result"
    }
   ],
   "source": [
    "X_tensor = torch.tensor(X)\n",
    "y_tensor = torch.tensor(data['stars'].values - 1)\n",
    "\n",
    "X_tensor.shape, y_tensor.shape"
   ]
  },
  {
   "cell_type": "code",
   "execution_count": 196,
   "id": "4458f441-9565-46bc-b03f-6d078c57174f",
   "metadata": {},
   "outputs": [
    {
     "name": "stdout",
     "output_type": "stream",
     "text": [
      "torch.Size([64, 100]) torch.Size([64])\n"
     ]
    }
   ],
   "source": [
    "batch_size = 64\n",
    "dataset = TensorDataset(X_tensor, y_tensor)\n",
    "train_loader = DataLoader(dataset, batch_size=batch_size, shuffle=True)\n",
    "\n",
    "for inputs, labels in train_loader:\n",
    "    print(inputs.shape, labels.shape)\n",
    "    break"
   ]
  },
  {
   "cell_type": "code",
   "execution_count": 197,
   "id": "d6372793-9bf9-424f-99f3-912010de2096",
   "metadata": {},
   "outputs": [],
   "source": [
    "class RNNModel(nn.Module):\n",
    "    def __init__(self, vocab_size, embedding_dim, hidden_dim, output_dim):\n",
    "        super(RNNModel, self).__init__()\n",
    "        \n",
    "        # embedding layer\n",
    "        self.embedding = nn.Embedding(vocab_size, embedding_dim)\n",
    "        \n",
    "        # RNN layer\n",
    "        self.rnn = nn.RNN(embedding_dim, hidden_dim, batch_first=True)\n",
    "        \n",
    "        # fully connected layer for output\n",
    "        self.fc = nn.Linear(hidden_dim, output_dim)\n",
    "    \n",
    "    def forward(self, x):\n",
    "        embedded = self.embedding(x)\n",
    "        \n",
    "        rnn_out, _ = self.rnn(embedded)\n",
    "        \n",
    "        # for simpicity use the last time step (last RNN output)\n",
    "        rnn_out = rnn_out[:, -1, :]\n",
    "        \n",
    "        out = self.fc(rnn_out)\n",
    "        \n",
    "        return out"
   ]
  },
  {
   "cell_type": "code",
   "execution_count": 198,
   "id": "53fc473b-6abe-470a-aa24-103740d45095",
   "metadata": {},
   "outputs": [
    {
     "name": "stdout",
     "output_type": "stream",
     "text": [
      "RNNModel(\n",
      "  (embedding): Embedding(61481, 100)\n",
      "  (rnn): RNN(100, 128, batch_first=True)\n",
      "  (fc): Linear(in_features=128, out_features=5, bias=True)\n",
      ")\n"
     ]
    }
   ],
   "source": [
    "embedding_dim = 100\n",
    "hidden_dim = 128\n",
    "output_dim = len(data['stars'].unique())\n",
    "\n",
    "model = RNNModel(len(vocab)+1, embedding_dim, hidden_dim, output_dim)\n",
    "\n",
    "criterion = nn.CrossEntropyLoss()\n",
    "optimizer = optim.Adam(model.parameters(), lr=0.001)\n",
    "\n",
    "print(model)"
   ]
  },
  {
   "cell_type": "code",
   "execution_count": 199,
   "id": "f5215d83-14b4-4348-8c29-0f88bb004a59",
   "metadata": {},
   "outputs": [
    {
     "name": "stdout",
     "output_type": "stream",
     "text": [
      "Epoch 1/5, Loss: 1.4043, Accuracy: 44.09%\n",
      "Epoch 2/5, Loss: 1.3925, Accuracy: 44.53%\n",
      "Epoch 3/5, Loss: 1.3865, Accuracy: 45.23%\n",
      "Epoch 4/5, Loss: 1.3750, Accuracy: 45.87%\n",
      "Epoch 5/5, Loss: 1.3606, Accuracy: 46.60%\n"
     ]
    }
   ],
   "source": [
    "num_epochs = 5\n",
    "\n",
    "for epoch in range(num_epochs):\n",
    "    model.train()\n",
    "    running_loss = 0.0\n",
    "    correct_predictions = 0\n",
    "    total_predictions = 0\n",
    "    \n",
    "    for inputs, labels in train_loader:\n",
    "        optimizer.zero_grad()\n",
    "\n",
    "        outputs = model(inputs)\n",
    "\n",
    "        loss = criterion(outputs, labels)\n",
    "        running_loss += loss.item()\n",
    "\n",
    "        loss.backward()\n",
    "        optimizer.step()\n",
    "\n",
    "        _, predicted = torch.max(outputs, 1)\n",
    "        correct_predictions += (predicted == labels).sum().item()\n",
    "        total_predictions += labels.size(0)\n",
    "    \n",
    "    avg_loss = running_loss / len(train_loader)\n",
    "    accuracy = correct_predictions / total_predictions * 100\n",
    "    print(f'Epoch {epoch+1}/{num_epochs}, Loss: {avg_loss:.4f}, Accuracy: {accuracy:.2f}%')"
   ]
  },
  {
   "cell_type": "code",
   "execution_count": 200,
   "id": "65d48600-320d-4a3d-a7b6-d5145baadbd7",
   "metadata": {},
   "outputs": [
    {
     "name": "stdout",
     "output_type": "stream",
     "text": [
      "Training Accuracy: 47.49%\n"
     ]
    }
   ],
   "source": [
    "def evaluate(model, data_loader):\n",
    "    model.eval()\n",
    "    correct_predictions = 0\n",
    "    total_predictions = 0\n",
    "    \n",
    "    with torch.no_grad():\n",
    "        for inputs, labels in data_loader:\n",
    "            outputs = model(inputs)\n",
    "            _, predicted = torch.max(outputs, 1)\n",
    "            correct_predictions += (predicted == labels).sum().item()\n",
    "            total_predictions += labels.size(0)\n",
    "    \n",
    "    accuracy = correct_predictions / total_predictions * 100\n",
    "    return accuracy\n",
    "\n",
    "accuracy = evaluate(model, train_loader)\n",
    "print(f'Training Accuracy: {accuracy:.2f}%')"
   ]
  },
  {
   "cell_type": "code",
   "execution_count": 201,
   "id": "11ae184c-088e-45da-a42c-866b0152f3fd",
   "metadata": {},
   "outputs": [],
   "source": [
    "torch.save(model.state_dict(), '2a_model.pth')"
   ]
  },
  {
   "cell_type": "markdown",
   "id": "2f576b08-da71-45b3-a600-3f1fdc2335e1",
   "metadata": {},
   "source": [
    "#### б) pretrained word embeddings"
   ]
  },
  {
   "cell_type": "code",
   "execution_count": 208,
   "id": "df0ae114-f6bc-40a4-abad-466e6b896921",
   "metadata": {},
   "outputs": [],
   "source": [
    "data = pd.read_json('data/yelp_academic_dataset_review.json', lines=True, nrows=90000)\n",
    "\n",
    "stop_words = set(stopwords.words('english'))\n",
    "\n",
    "def preprocess(text, custom_stopwords=None):\n",
    "    if custom_stopwords is None:\n",
    "        custom_stopwords = set()\n",
    "    else:\n",
    "        custom_stopwords = set(custom_stopwords)\n",
    "    \n",
    "    all_stopwords = stop_words.union(custom_stopwords)\n",
    "    tokens = word_tokenize(text.lower())\n",
    "    tokens = [word for word in tokens if word.isalpha() and word not in all_stopwords]\n",
    "    return ' '.join(tokens)\n",
    "\n",
    "custom_stopwords = ['place', 'one', 'got', 'food', 'drink', 'good', 'restaurant', 'said', 'even', 'told', 'order', 'ordered',\n",
    "                    'really', 'table', 'thing', 'though', 'think', 'menu', 'came', 'go', 'went', 'location', 'pizza', 'time',\n",
    "                    'ask', 'asked', 'people', 'always', 'know', 'still', 'u', 'two', 'three', 'us', 'way', 'service', 'make',\n",
    "                    'going', 'first', 'second', 'third']\n",
    "\n",
    "data['cleaned_text'] = data['text'].apply(lambda x: preprocess(x, custom_stopwords))"
   ]
  },
  {
   "cell_type": "code",
   "execution_count": 209,
   "id": "573d54f0-6afc-4c08-ac1e-88a3dad9308c",
   "metadata": {},
   "outputs": [
    {
     "name": "stdout",
     "output_type": "stream",
     "text": [
      "Loaded 400000 word vectors.\n"
     ]
    }
   ],
   "source": [
    "def load_glove_embeddings(glove_file_path):\n",
    "    embeddings_index = {}\n",
    "    with open(glove_file_path, 'r', encoding='utf-8') as f:\n",
    "        for line in f:\n",
    "            values = line.split()\n",
    "            word = values[0]\n",
    "            vector = np.asarray(values[1:], dtype='float32')\n",
    "            embeddings_index[word] = vector\n",
    "    return embeddings_index\n",
    "\n",
    "glove_file_path = './glove.6B.100d.txt'\n",
    "embeddings_index = load_glove_embeddings(glove_file_path)\n",
    "\n",
    "print(f'Loaded {len(embeddings_index)} word vectors.')"
   ]
  },
  {
   "cell_type": "code",
   "execution_count": 210,
   "id": "dd1301ca-ca74-4bc6-8377-1a18b0302490",
   "metadata": {},
   "outputs": [],
   "source": [
    "from tensorflow.keras.preprocessing.text import Tokenizer\n",
    "from tensorflow.keras.preprocessing.sequence import pad_sequences\n",
    "\n",
    "tokenizer = Tokenizer()\n",
    "tokenizer.fit_on_texts(data['cleaned_text'])\n",
    "\n",
    "sequences = tokenizer.texts_to_sequences(data['cleaned_text'])\n",
    "\n",
    "vocab_size = len(tokenizer.word_index) + 1\n",
    "\n",
    "embedding_dim = 100\n",
    "embedding_matrix = np.zeros((vocab_size, embedding_dim))\n",
    "\n",
    "for word, index in tokenizer.word_index.items():\n",
    "    if word in embeddings_index:\n",
    "        embedding_matrix[index] = embeddings_index[word]\n",
    "\n",
    "max_sequence_length = 100\n",
    "X = pad_sequences(sequences, maxlen=max_sequence_length)"
   ]
  },
  {
   "cell_type": "code",
   "execution_count": 211,
   "id": "4ae3744e-185a-48d4-a1f4-9314099c947b",
   "metadata": {},
   "outputs": [],
   "source": [
    "from tensorflow.keras.utils import to_categorical\n",
    "\n",
    "y = data['stars'].values\n",
    "y = to_categorical(y - 1, num_classes=5)"
   ]
  },
  {
   "cell_type": "code",
   "execution_count": 212,
   "id": "43228362-5b25-41e2-b63d-d15fac4869b3",
   "metadata": {},
   "outputs": [
    {
     "name": "stdout",
     "output_type": "stream",
     "text": [
      "Training set size: 72000 samples\n",
      "Validation set size: 18000 samples\n"
     ]
    }
   ],
   "source": [
    "from sklearn.model_selection import train_test_split\n",
    "\n",
    "X_train, X_val, y_train, y_val = train_test_split(X, y, test_size=0.2, random_state=42)\n",
    "\n",
    "print(f'Training set size: {X_train.shape[0]} samples')\n",
    "print(f'Validation set size: {X_val.shape[0]} samples')"
   ]
  },
  {
   "cell_type": "code",
   "execution_count": 214,
   "id": "5960e9f3-e0ad-4b1a-ac97-f9100cd7b980",
   "metadata": {},
   "outputs": [
    {
     "data": {
      "text/html": [
       "<pre style=\"white-space:pre;overflow-x:auto;line-height:normal;font-family:Menlo,'DejaVu Sans Mono',consolas,'Courier New',monospace\"><span style=\"font-weight: bold\">Model: \"sequential_6\"</span>\n",
       "</pre>\n"
      ],
      "text/plain": [
       "\u001b[1mModel: \"sequential_6\"\u001b[0m\n"
      ]
     },
     "metadata": {},
     "output_type": "display_data"
    },
    {
     "data": {
      "text/html": [
       "<pre style=\"white-space:pre;overflow-x:auto;line-height:normal;font-family:Menlo,'DejaVu Sans Mono',consolas,'Courier New',monospace\">┏━━━━━━━━━━━━━━━━━━━━━━━━━━━━━━━━━━━━━━┳━━━━━━━━━━━━━━━━━━━━━━━━━━━━━┳━━━━━━━━━━━━━━━━━┓\n",
       "┃<span style=\"font-weight: bold\"> Layer (type)                         </span>┃<span style=\"font-weight: bold\"> Output Shape                </span>┃<span style=\"font-weight: bold\">         Param # </span>┃\n",
       "┡━━━━━━━━━━━━━━━━━━━━━━━━━━━━━━━━━━━━━━╇━━━━━━━━━━━━━━━━━━━━━━━━━━━━━╇━━━━━━━━━━━━━━━━━┩\n",
       "│ embedding_6 (<span style=\"color: #0087ff; text-decoration-color: #0087ff\">Embedding</span>)              │ ?                           │       <span style=\"color: #00af00; text-decoration-color: #00af00\">6,148,000</span> │\n",
       "├──────────────────────────────────────┼─────────────────────────────┼─────────────────┤\n",
       "│ lstm_6 (<span style=\"color: #0087ff; text-decoration-color: #0087ff\">LSTM</span>)                        │ ?                           │     <span style=\"color: #00af00; text-decoration-color: #00af00\">0</span> (unbuilt) │\n",
       "├──────────────────────────────────────┼─────────────────────────────┼─────────────────┤\n",
       "│ dropout_6 (<span style=\"color: #0087ff; text-decoration-color: #0087ff\">Dropout</span>)                  │ ?                           │               <span style=\"color: #00af00; text-decoration-color: #00af00\">0</span> │\n",
       "├──────────────────────────────────────┼─────────────────────────────┼─────────────────┤\n",
       "│ dense_6 (<span style=\"color: #0087ff; text-decoration-color: #0087ff\">Dense</span>)                      │ ?                           │     <span style=\"color: #00af00; text-decoration-color: #00af00\">0</span> (unbuilt) │\n",
       "└──────────────────────────────────────┴─────────────────────────────┴─────────────────┘\n",
       "</pre>\n"
      ],
      "text/plain": [
       "┏━━━━━━━━━━━━━━━━━━━━━━━━━━━━━━━━━━━━━━┳━━━━━━━━━━━━━━━━━━━━━━━━━━━━━┳━━━━━━━━━━━━━━━━━┓\n",
       "┃\u001b[1m \u001b[0m\u001b[1mLayer (type)                        \u001b[0m\u001b[1m \u001b[0m┃\u001b[1m \u001b[0m\u001b[1mOutput Shape               \u001b[0m\u001b[1m \u001b[0m┃\u001b[1m \u001b[0m\u001b[1m        Param #\u001b[0m\u001b[1m \u001b[0m┃\n",
       "┡━━━━━━━━━━━━━━━━━━━━━━━━━━━━━━━━━━━━━━╇━━━━━━━━━━━━━━━━━━━━━━━━━━━━━╇━━━━━━━━━━━━━━━━━┩\n",
       "│ embedding_6 (\u001b[38;5;33mEmbedding\u001b[0m)              │ ?                           │       \u001b[38;5;34m6,148,000\u001b[0m │\n",
       "├──────────────────────────────────────┼─────────────────────────────┼─────────────────┤\n",
       "│ lstm_6 (\u001b[38;5;33mLSTM\u001b[0m)                        │ ?                           │     \u001b[38;5;34m0\u001b[0m (unbuilt) │\n",
       "├──────────────────────────────────────┼─────────────────────────────┼─────────────────┤\n",
       "│ dropout_6 (\u001b[38;5;33mDropout\u001b[0m)                  │ ?                           │               \u001b[38;5;34m0\u001b[0m │\n",
       "├──────────────────────────────────────┼─────────────────────────────┼─────────────────┤\n",
       "│ dense_6 (\u001b[38;5;33mDense\u001b[0m)                      │ ?                           │     \u001b[38;5;34m0\u001b[0m (unbuilt) │\n",
       "└──────────────────────────────────────┴─────────────────────────────┴─────────────────┘\n"
      ]
     },
     "metadata": {},
     "output_type": "display_data"
    },
    {
     "data": {
      "text/html": [
       "<pre style=\"white-space:pre;overflow-x:auto;line-height:normal;font-family:Menlo,'DejaVu Sans Mono',consolas,'Courier New',monospace\"><span style=\"font-weight: bold\"> Total params: </span><span style=\"color: #00af00; text-decoration-color: #00af00\">6,148,000</span> (23.45 MB)\n",
       "</pre>\n"
      ],
      "text/plain": [
       "\u001b[1m Total params: \u001b[0m\u001b[38;5;34m6,148,000\u001b[0m (23.45 MB)\n"
      ]
     },
     "metadata": {},
     "output_type": "display_data"
    },
    {
     "data": {
      "text/html": [
       "<pre style=\"white-space:pre;overflow-x:auto;line-height:normal;font-family:Menlo,'DejaVu Sans Mono',consolas,'Courier New',monospace\"><span style=\"font-weight: bold\"> Trainable params: </span><span style=\"color: #00af00; text-decoration-color: #00af00\">0</span> (0.00 B)\n",
       "</pre>\n"
      ],
      "text/plain": [
       "\u001b[1m Trainable params: \u001b[0m\u001b[38;5;34m0\u001b[0m (0.00 B)\n"
      ]
     },
     "metadata": {},
     "output_type": "display_data"
    },
    {
     "data": {
      "text/html": [
       "<pre style=\"white-space:pre;overflow-x:auto;line-height:normal;font-family:Menlo,'DejaVu Sans Mono',consolas,'Courier New',monospace\"><span style=\"font-weight: bold\"> Non-trainable params: </span><span style=\"color: #00af00; text-decoration-color: #00af00\">6,148,000</span> (23.45 MB)\n",
       "</pre>\n"
      ],
      "text/plain": [
       "\u001b[1m Non-trainable params: \u001b[0m\u001b[38;5;34m6,148,000\u001b[0m (23.45 MB)\n"
      ]
     },
     "metadata": {},
     "output_type": "display_data"
    }
   ],
   "source": [
    "from tensorflow.keras.models import Sequential\n",
    "from tensorflow.keras.layers import Embedding, LSTM, Dropout, Dense\n",
    "from tensorflow.keras.optimizers import Adam\n",
    "\n",
    "model = Sequential()\n",
    "\n",
    "model.add(Embedding(input_dim=vocab_size, output_dim=embedding_dim, \n",
    "                    weights=[embedding_matrix], trainable=False))\n",
    "\n",
    "model.add(LSTM(128, return_sequences=False))\n",
    "\n",
    "model.add(Dropout(0.5))\n",
    "\n",
    "model.add(Dense(5, activation='softmax'))\n",
    "\n",
    "model.compile(loss='categorical_crossentropy', optimizer=Adam(), metrics=['accuracy'])\n",
    "\n",
    "model.summary()"
   ]
  },
  {
   "cell_type": "code",
   "execution_count": 215,
   "id": "e9801f84-5380-46ef-92da-a75cf5b6a4b7",
   "metadata": {},
   "outputs": [
    {
     "name": "stdout",
     "output_type": "stream",
     "text": [
      "Epoch 1/5\n",
      "\u001b[1m2250/2250\u001b[0m \u001b[32m━━━━━━━━━━━━━━━━━━━━\u001b[0m\u001b[37m\u001b[0m \u001b[1m88s\u001b[0m 39ms/step - accuracy: 0.5230 - loss: 1.1303 - val_accuracy: 0.5908 - val_loss: 0.9754\n",
      "Epoch 2/5\n",
      "\u001b[1m2250/2250\u001b[0m \u001b[32m━━━━━━━━━━━━━━━━━━━━\u001b[0m\u001b[37m\u001b[0m \u001b[1m87s\u001b[0m 39ms/step - accuracy: 0.6002 - loss: 0.9395 - val_accuracy: 0.5880 - val_loss: 0.9433\n",
      "Epoch 3/5\n",
      "\u001b[1m2250/2250\u001b[0m \u001b[32m━━━━━━━━━━━━━━━━━━━━\u001b[0m\u001b[37m\u001b[0m \u001b[1m87s\u001b[0m 39ms/step - accuracy: 0.6181 - loss: 0.8907 - val_accuracy: 0.6237 - val_loss: 0.8757\n",
      "Epoch 4/5\n",
      "\u001b[1m2250/2250\u001b[0m \u001b[32m━━━━━━━━━━━━━━━━━━━━\u001b[0m\u001b[37m\u001b[0m \u001b[1m87s\u001b[0m 39ms/step - accuracy: 0.6336 - loss: 0.8543 - val_accuracy: 0.6287 - val_loss: 0.8606\n",
      "Epoch 5/5\n",
      "\u001b[1m2250/2250\u001b[0m \u001b[32m━━━━━━━━━━━━━━━━━━━━\u001b[0m\u001b[37m\u001b[0m \u001b[1m92s\u001b[0m 41ms/step - accuracy: 0.6451 - loss: 0.8267 - val_accuracy: 0.6228 - val_loss: 0.8730\n"
     ]
    }
   ],
   "source": [
    "history = model.fit(X_train, y_train, batch_size=32, epochs=5, validation_data=(X_val, y_val))"
   ]
  },
  {
   "cell_type": "code",
   "execution_count": 216,
   "id": "997c24dc-d68d-47c2-ad52-2ab3ffd6b863",
   "metadata": {},
   "outputs": [
    {
     "name": "stdout",
     "output_type": "stream",
     "text": [
      "\u001b[1m563/563\u001b[0m \u001b[32m━━━━━━━━━━━━━━━━━━━━\u001b[0m\u001b[37m\u001b[0m \u001b[1m9s\u001b[0m 16ms/step - accuracy: 0.6232 - loss: 0.8711\n",
      "Validation Loss: 0.8730288147926331\n",
      "Validation Accuracy: 0.6228333115577698\n"
     ]
    }
   ],
   "source": [
    "val_loss, val_accuracy = model.evaluate(X_val, y_val)\n",
    "\n",
    "print(f\"Validation Loss: {val_loss}\")\n",
    "print(f\"Validation Accuracy: {val_accuracy}\")"
   ]
  },
  {
   "cell_type": "code",
   "execution_count": 224,
   "id": "24adda86-fd51-4056-af56-47393005648a",
   "metadata": {},
   "outputs": [
    {
     "name": "stdout",
     "output_type": "stream",
     "text": [
      "\u001b[1m1/1\u001b[0m \u001b[32m━━━━━━━━━━━━━━━━━━━━\u001b[0m\u001b[37m\u001b[0m \u001b[1m0s\u001b[0m 30ms/step\n",
      "Predicted ratings: [5 1 1 2]\n"
     ]
    }
   ],
   "source": [
    "manual_reviews = [\"This place is amazing!\", \"The food was awful, I would not recommend.\", \"Food here is as good as one you would find in a garbage\", \"The place was amazingly bad\"]\n",
    "manual_reviews_cleaned = [preprocess(review) for review in manual_reviews]\n",
    "manual_reviews_sequences = tokenizer.texts_to_sequences(manual_reviews_cleaned)\n",
    "manual_reviews_padded = pad_sequences(manual_reviews_sequences, maxlen=100)\n",
    "\n",
    "predictions = model.predict(manual_reviews_padded)\n",
    "\n",
    "predicted_classes = np.argmax(predictions, axis=1) + 1\n",
    "print(f\"Predicted ratings: {predicted_classes}\")"
   ]
  },
  {
   "cell_type": "code",
   "execution_count": null,
   "id": "cde40ba5-bbe9-4c70-843d-f2d0a6bad8c5",
   "metadata": {},
   "outputs": [],
   "source": []
  }
 ],
 "metadata": {
  "kernelspec": {
   "display_name": "Python 3 (ipykernel)",
   "language": "python",
   "name": "python3"
  },
  "language_info": {
   "codemirror_mode": {
    "name": "ipython",
    "version": 3
   },
   "file_extension": ".py",
   "mimetype": "text/x-python",
   "name": "python",
   "nbconvert_exporter": "python",
   "pygments_lexer": "ipython3",
   "version": "3.12.7"
  }
 },
 "nbformat": 4,
 "nbformat_minor": 5
}
